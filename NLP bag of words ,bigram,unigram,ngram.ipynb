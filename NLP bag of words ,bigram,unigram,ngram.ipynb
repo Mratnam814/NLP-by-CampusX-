{
 "cells": [
  {
   "cell_type": "code",
   "execution_count": 1,
   "id": "97332f78",
   "metadata": {},
   "outputs": [],
   "source": [
    "#FeatureExtraction\n",
    "#TextToNumbers\n"
   ]
  },
  {
   "cell_type": "code",
   "execution_count": 4,
   "id": "677fe19a",
   "metadata": {},
   "outputs": [],
   "source": [
    "#Text to vector\n",
    "#from sklearn.feature_extraction.text import CountVectorizer\n",
    "#cv=CountVectorizer()\n",
    "#CountVectorizer(ngram_range(give range:giverange))"
   ]
  },
  {
   "cell_type": "code",
   "execution_count": 5,
   "id": "fcac33f4",
   "metadata": {},
   "outputs": [],
   "source": [
    "#cv.fit_transform(df['text'])"
   ]
  },
  {
   "cell_type": "code",
   "execution_count": 6,
   "id": "a616c83b",
   "metadata": {},
   "outputs": [],
   "source": [
    "#cv.transform([sent1]).toarray()"
   ]
  },
  {
   "cell_type": "code",
   "execution_count": 7,
   "id": "50de9397",
   "metadata": {},
   "outputs": [],
   "source": [
    "#cv.vocabulary"
   ]
  },
  {
   "cell_type": "code",
   "execution_count": 9,
   "id": "edcc9b65",
   "metadata": {},
   "outputs": [],
   "source": [
    "#from sklearn.feature_extraction.text import TfidfVectorizer\n",
    "#tfidf=TfidfVectorizer()\n",
    "#convert it into array"
   ]
  },
  {
   "cell_type": "code",
   "execution_count": null,
   "id": "e596b1f9",
   "metadata": {},
   "outputs": [],
   "source": []
  }
 ],
 "metadata": {
  "kernelspec": {
   "display_name": "Python 3 (ipykernel)",
   "language": "python",
   "name": "python3"
  },
  "language_info": {
   "codemirror_mode": {
    "name": "ipython",
    "version": 3
   },
   "file_extension": ".py",
   "mimetype": "text/x-python",
   "name": "python",
   "nbconvert_exporter": "python",
   "pygments_lexer": "ipython3",
   "version": "3.9.12"
  }
 },
 "nbformat": 4,
 "nbformat_minor": 5
}
