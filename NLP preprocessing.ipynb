{
 "cells": [
  {
   "cell_type": "code",
   "execution_count": 1,
   "id": "9fa384ac",
   "metadata": {},
   "outputs": [],
   "source": [
    "s=\"In botany, a tree is a perennial plant with an elongated stem, or trunk, usually supporting branches and leaves. In some usages, the definition of a tree may be narrower, including only woody plants with secondary growth, plants that are usable as lumber or plants above a specified height. In wider definitions, the taller palms, tree ferns, bananas, and bamboos are also trees.\""
   ]
  },
  {
   "cell_type": "code",
   "execution_count": 5,
   "id": "1497ef71",
   "metadata": {},
   "outputs": [],
   "source": [
    "s1=s.lower()"
   ]
  },
  {
   "cell_type": "code",
   "execution_count": 6,
   "id": "d1528835",
   "metadata": {},
   "outputs": [
    {
     "data": {
      "text/plain": [
       "'in botany, a tree is a perennial plant with an elongated stem, or trunk, usually supporting branches and leaves. in some usages, the definition of a tree may be narrower, including only woody plants with secondary growth, plants that are usable as lumber or plants above a specified height. in wider definitions, the taller palms, tree ferns, bananas, and bamboos are also trees.'"
      ]
     },
     "execution_count": 6,
     "metadata": {},
     "output_type": "execute_result"
    }
   ],
   "source": [
    "s1"
   ]
  },
  {
   "cell_type": "code",
   "execution_count": 9,
   "id": "7281d413",
   "metadata": {},
   "outputs": [],
   "source": [
    "#Remove HTML,URL and Punctuation\n",
    "#reasons\n",
    "#Model can get confused\n"
   ]
  },
  {
   "cell_type": "code",
   "execution_count": 10,
   "id": "9e3eeb08",
   "metadata": {},
   "outputs": [
    {
     "data": {
      "text/plain": [
       "'!\"#$%&\\'()*+,-./:;<=>?@[\\\\]^_`{|}~'"
      ]
     },
     "execution_count": 10,
     "metadata": {},
     "output_type": "execute_result"
    }
   ],
   "source": [
    "import string,time\n",
    "string.punctuation"
   ]
  },
  {
   "cell_type": "code",
   "execution_count": 11,
   "id": "35ef25fb",
   "metadata": {},
   "outputs": [],
   "source": [
    "exclude=string.punctuation"
   ]
  },
  {
   "cell_type": "code",
   "execution_count": 12,
   "id": "9dca0cc8",
   "metadata": {},
   "outputs": [],
   "source": [
    "def remove_punc(text):\n",
    "    for char in exclude:\n",
    "        text=text.replace(char,'')\n",
    "    return text"
   ]
  },
  {
   "cell_type": "code",
   "execution_count": 19,
   "id": "920a6ca5",
   "metadata": {},
   "outputs": [
    {
     "name": "stdout",
     "output_type": "stream",
     "text": [
      "in botany a tree is a perennial plant with an elongated stem or trunk usually supporting branches and leaves in some usages the definition of a tree may be narrower including only woody plants with secondary growth plants that are usable as lumber or plants above a specified height in wider definitions the taller palms tree ferns bananas and bamboos are also trees\n",
      "1692451538.1639326\n"
     ]
    }
   ],
   "source": [
    "start=time.time()\n",
    "print(remove_punc(s1))\n",
    "time1=time.time()\n",
    "print(time1)\n",
    "#TimeConsuming"
   ]
  },
  {
   "cell_type": "code",
   "execution_count": 21,
   "id": "8caea1d2",
   "metadata": {},
   "outputs": [],
   "source": [
    "#AnotherMethod\n",
    "def remove_punc(text):\n",
    "    return text.translate(str.maketrans('','',exclude))\n",
    "#ForBigDatasets"
   ]
  },
  {
   "cell_type": "code",
   "execution_count": 23,
   "id": "08729588",
   "metadata": {},
   "outputs": [],
   "source": [
    "#Another step\n",
    "#chatwordtreatment #slangTranslator\n",
    "#create dictionary"
   ]
  },
  {
   "cell_type": "code",
   "execution_count": 24,
   "id": "4051b670",
   "metadata": {},
   "outputs": [],
   "source": [
    "#SpellingCorrection"
   ]
  },
  {
   "cell_type": "code",
   "execution_count": 25,
   "id": "3118bcf7",
   "metadata": {},
   "outputs": [],
   "source": [
    "k=\"please read the notebook and also like the note book\""
   ]
  },
  {
   "cell_type": "code",
   "execution_count": 26,
   "id": "d8f92e51",
   "metadata": {},
   "outputs": [],
   "source": [
    "#nltk #textblob"
   ]
  },
  {
   "cell_type": "code",
   "execution_count": 30,
   "id": "8e130a58",
   "metadata": {},
   "outputs": [],
   "source": [
    "#from textblob import TextBlob\n",
    "#TextBlob.correct(k)"
   ]
  },
  {
   "cell_type": "code",
   "execution_count": 31,
   "id": "26f8b1ba",
   "metadata": {},
   "outputs": [],
   "source": [
    "#RemoveStopwords"
   ]
  },
  {
   "cell_type": "code",
   "execution_count": 32,
   "id": "28b0ac6d",
   "metadata": {},
   "outputs": [],
   "source": [
    "#from nltk.corpus import stopwords"
   ]
  },
  {
   "cell_type": "code",
   "execution_count": 35,
   "id": "0cf1d2a1",
   "metadata": {},
   "outputs": [],
   "source": [
    "#HandlingEmojis #regularexpression #convert in unicode #substitute"
   ]
  },
  {
   "cell_type": "code",
   "execution_count": 36,
   "id": "1bce20e7",
   "metadata": {},
   "outputs": [],
   "source": [
    "#or import emoji\n",
    "#print(emoji.demojize(sentence))"
   ]
  },
  {
   "cell_type": "code",
   "execution_count": 37,
   "id": "3da6d6e4",
   "metadata": {},
   "outputs": [],
   "source": [
    "#NowTokenization"
   ]
  },
  {
   "cell_type": "code",
   "execution_count": 39,
   "id": "c0f3af2a",
   "metadata": {},
   "outputs": [],
   "source": [
    "#TextClassification\n",
    "#sales#support \n",
    "#Prefix suffix infix exception sepration"
   ]
  },
  {
   "cell_type": "code",
   "execution_count": 40,
   "id": "58ab8bd6",
   "metadata": {},
   "outputs": [],
   "source": [
    "#wordtokenisation\n",
    "k1=k.split()"
   ]
  },
  {
   "cell_type": "code",
   "execution_count": 41,
   "id": "cb5adf5a",
   "metadata": {},
   "outputs": [
    {
     "data": {
      "text/plain": [
       "['please',\n",
       " 'read',\n",
       " 'the',\n",
       " 'notebook',\n",
       " 'and',\n",
       " 'also',\n",
       " 'like',\n",
       " 'the',\n",
       " 'note',\n",
       " 'book']"
      ]
     },
     "execution_count": 41,
     "metadata": {},
     "output_type": "execute_result"
    }
   ],
   "source": [
    "k1"
   ]
  },
  {
   "cell_type": "code",
   "execution_count": 42,
   "id": "a231076c",
   "metadata": {},
   "outputs": [],
   "source": [
    "#use regular expresssion when split function fails"
   ]
  },
  {
   "cell_type": "code",
   "execution_count": 43,
   "id": "02bdb3fe",
   "metadata": {},
   "outputs": [],
   "source": [
    "#from nltk.tokenize import word_tokenize,sent_tokenize"
   ]
  },
  {
   "cell_type": "code",
   "execution_count": 45,
   "id": "36061a51",
   "metadata": {},
   "outputs": [],
   "source": [
    "#spacy #most appropriate\n",
    "#import spacy\n",
    "#nlp=spacy.load('en.core_web_sm')\n",
    "#doc=nlp(sent1)"
   ]
  },
  {
   "cell_type": "code",
   "execution_count": 46,
   "id": "4ab6167e",
   "metadata": {},
   "outputs": [],
   "source": [
    "#stemming\n",
    "#reducing inflection\n",
    "#from nltk.stem.porter import PorterStemmer"
   ]
  },
  {
   "cell_type": "code",
   "execution_count": 47,
   "id": "d1ba082c",
   "metadata": {},
   "outputs": [],
   "source": [
    "#lemmetization\n",
    "#nltk.stem import wordnetlemmatizer()"
   ]
  },
  {
   "cell_type": "code",
   "execution_count": null,
   "id": "ab096590",
   "metadata": {},
   "outputs": [],
   "source": []
  }
 ],
 "metadata": {
  "kernelspec": {
   "display_name": "Python 3 (ipykernel)",
   "language": "python",
   "name": "python3"
  },
  "language_info": {
   "codemirror_mode": {
    "name": "ipython",
    "version": 3
   },
   "file_extension": ".py",
   "mimetype": "text/x-python",
   "name": "python",
   "nbconvert_exporter": "python",
   "pygments_lexer": "ipython3",
   "version": "3.9.12"
  }
 },
 "nbformat": 4,
 "nbformat_minor": 5
}
